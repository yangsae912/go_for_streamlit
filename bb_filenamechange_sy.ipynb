{
  "nbformat": 4,
  "nbformat_minor": 0,
  "metadata": {
    "colab": {
      "provenance": []
    },
    "kernelspec": {
      "name": "python3",
      "display_name": "Python 3"
    },
    "language_info": {
      "name": "python"
    }
  },
  "cells": [
    {
      "cell_type": "markdown",
      "source": [
        "### 함수형 개발 방식 (Functional programming )\n",
        "\n",
        "- 하나의 함수에 최대한 하나의 기능만\n",
        "- 함수를 기본적인 계산 단위로 삼고, 상태와 가변 데이터를 최소화하여 높은 수준의 모듈화, 재사용성, 유지보수성, 동시성 등을 제공\n",
        "- 함수가 다른 함수의 인자로 전달될 수 있으며, 함수의 반환 값으로 사용될 수 있다 "
      ],
      "metadata": {
        "id": "4rw5aN9WzsbU"
      }
    },
    {
      "cell_type": "markdown",
      "source": [
        "-------------------\n",
        "\n",
        "1. 파일 경로를 input으로 받아 해당 경로에 있는 모든 파일명 을 리스트로 output으로 출력\n",
        "\n",
        "2. 파일명 output 리스트\n",
        "\n",
        "3. 순차적으로 해당 파일의 length 열을 sum()한다. length( = volume)값을 가지고 구글 스프레드 시트로부터 매칭 \n",
        "\n",
        "4. volume수가 매칭된 파일명을 구글 스프레드 시트 \"file name\" 열에서 가져오기\n",
        "\n",
        "5. rename "
      ],
      "metadata": {
        "id": "8s3tbiuf4vm9"
      }
    },
    {
      "cell_type": "code",
      "source": [
        "!pip install pygsheets"
      ],
      "metadata": {
        "colab": {
          "base_uri": "https://localhost:8080/"
        },
        "id": "YKS5I256N422",
        "outputId": "399ab2ac-9a7c-4096-de03-a113e42287e5"
      },
      "execution_count": 7,
      "outputs": [
        {
          "output_type": "stream",
          "name": "stdout",
          "text": [
            "Looking in indexes: https://pypi.org/simple, https://us-python.pkg.dev/colab-wheels/public/simple/\n",
            "Collecting pygsheets\n",
            "  Downloading pygsheets-2.0.6-py3-none-any.whl (158 kB)\n",
            "\u001b[2K     \u001b[90m━━━━━━━━━━━━━━━━━━━━━━━━━━━━━━━━━━━━━━━\u001b[0m \u001b[32m158.2/158.2 KB\u001b[0m \u001b[31m6.2 MB/s\u001b[0m eta \u001b[36m0:00:00\u001b[0m\n",
            "\u001b[?25hRequirement already satisfied: google-auth-oauthlib>=0.7.1 in /usr/local/lib/python3.9/dist-packages (from pygsheets) (1.0.0)\n",
            "Requirement already satisfied: google-api-python-client>=2.50.0 in /usr/local/lib/python3.9/dist-packages (from pygsheets) (2.70.0)\n",
            "Requirement already satisfied: google-api-core!=2.0.*,!=2.1.*,!=2.2.*,!=2.3.0,<3.0.0dev,>=1.31.5 in /usr/local/lib/python3.9/dist-packages (from google-api-python-client>=2.50.0->pygsheets) (2.11.0)\n",
            "Requirement already satisfied: google-auth-httplib2>=0.1.0 in /usr/local/lib/python3.9/dist-packages (from google-api-python-client>=2.50.0->pygsheets) (0.1.0)\n",
            "Requirement already satisfied: httplib2<1dev,>=0.15.0 in /usr/local/lib/python3.9/dist-packages (from google-api-python-client>=2.50.0->pygsheets) (0.21.0)\n",
            "Requirement already satisfied: google-auth<3.0.0dev,>=1.19.0 in /usr/local/lib/python3.9/dist-packages (from google-api-python-client>=2.50.0->pygsheets) (2.17.1)\n",
            "Requirement already satisfied: uritemplate<5,>=3.0.1 in /usr/local/lib/python3.9/dist-packages (from google-api-python-client>=2.50.0->pygsheets) (4.1.1)\n",
            "Requirement already satisfied: requests-oauthlib>=0.7.0 in /usr/local/lib/python3.9/dist-packages (from google-auth-oauthlib>=0.7.1->pygsheets) (1.3.1)\n",
            "Requirement already satisfied: protobuf!=3.20.0,!=3.20.1,!=4.21.0,!=4.21.1,!=4.21.2,!=4.21.3,!=4.21.4,!=4.21.5,<5.0.0dev,>=3.19.5 in /usr/local/lib/python3.9/dist-packages (from google-api-core!=2.0.*,!=2.1.*,!=2.2.*,!=2.3.0,<3.0.0dev,>=1.31.5->google-api-python-client>=2.50.0->pygsheets) (3.20.3)\n",
            "Requirement already satisfied: requests<3.0.0dev,>=2.18.0 in /usr/local/lib/python3.9/dist-packages (from google-api-core!=2.0.*,!=2.1.*,!=2.2.*,!=2.3.0,<3.0.0dev,>=1.31.5->google-api-python-client>=2.50.0->pygsheets) (2.27.1)\n",
            "Requirement already satisfied: googleapis-common-protos<2.0dev,>=1.56.2 in /usr/local/lib/python3.9/dist-packages (from google-api-core!=2.0.*,!=2.1.*,!=2.2.*,!=2.3.0,<3.0.0dev,>=1.31.5->google-api-python-client>=2.50.0->pygsheets) (1.59.0)\n",
            "Requirement already satisfied: rsa<5,>=3.1.4 in /usr/local/lib/python3.9/dist-packages (from google-auth<3.0.0dev,>=1.19.0->google-api-python-client>=2.50.0->pygsheets) (4.9)\n",
            "Requirement already satisfied: six>=1.9.0 in /usr/local/lib/python3.9/dist-packages (from google-auth<3.0.0dev,>=1.19.0->google-api-python-client>=2.50.0->pygsheets) (1.16.0)\n",
            "Requirement already satisfied: cachetools<6.0,>=2.0.0 in /usr/local/lib/python3.9/dist-packages (from google-auth<3.0.0dev,>=1.19.0->google-api-python-client>=2.50.0->pygsheets) (5.3.0)\n",
            "Requirement already satisfied: pyasn1-modules>=0.2.1 in /usr/local/lib/python3.9/dist-packages (from google-auth<3.0.0dev,>=1.19.0->google-api-python-client>=2.50.0->pygsheets) (0.2.8)\n",
            "Requirement already satisfied: pyparsing!=3.0.0,!=3.0.1,!=3.0.2,!=3.0.3,<4,>=2.4.2 in /usr/local/lib/python3.9/dist-packages (from httplib2<1dev,>=0.15.0->google-api-python-client>=2.50.0->pygsheets) (3.0.9)\n",
            "Requirement already satisfied: oauthlib>=3.0.0 in /usr/local/lib/python3.9/dist-packages (from requests-oauthlib>=0.7.0->google-auth-oauthlib>=0.7.1->pygsheets) (3.2.2)\n",
            "Requirement already satisfied: pyasn1<0.5.0,>=0.4.6 in /usr/local/lib/python3.9/dist-packages (from pyasn1-modules>=0.2.1->google-auth<3.0.0dev,>=1.19.0->google-api-python-client>=2.50.0->pygsheets) (0.4.8)\n",
            "Requirement already satisfied: charset-normalizer~=2.0.0 in /usr/local/lib/python3.9/dist-packages (from requests<3.0.0dev,>=2.18.0->google-api-core!=2.0.*,!=2.1.*,!=2.2.*,!=2.3.0,<3.0.0dev,>=1.31.5->google-api-python-client>=2.50.0->pygsheets) (2.0.12)\n",
            "Requirement already satisfied: idna<4,>=2.5 in /usr/local/lib/python3.9/dist-packages (from requests<3.0.0dev,>=2.18.0->google-api-core!=2.0.*,!=2.1.*,!=2.2.*,!=2.3.0,<3.0.0dev,>=1.31.5->google-api-python-client>=2.50.0->pygsheets) (3.4)\n",
            "Requirement already satisfied: urllib3<1.27,>=1.21.1 in /usr/local/lib/python3.9/dist-packages (from requests<3.0.0dev,>=2.18.0->google-api-core!=2.0.*,!=2.1.*,!=2.2.*,!=2.3.0,<3.0.0dev,>=1.31.5->google-api-python-client>=2.50.0->pygsheets) (1.26.15)\n",
            "Requirement already satisfied: certifi>=2017.4.17 in /usr/local/lib/python3.9/dist-packages (from requests<3.0.0dev,>=2.18.0->google-api-core!=2.0.*,!=2.1.*,!=2.2.*,!=2.3.0,<3.0.0dev,>=1.31.5->google-api-python-client>=2.50.0->pygsheets) (2022.12.7)\n",
            "Installing collected packages: pygsheets\n",
            "Successfully installed pygsheets-2.0.6\n"
          ]
        }
      ]
    },
    {
      "cell_type": "code",
      "execution_count": 8,
      "metadata": {
        "id": "tWg7UWWJxcO9"
      },
      "outputs": [],
      "source": [
        "import pandas as pd\n",
        "import os\n",
        "from openpyxl import load_workbook\n",
        "import gc\n",
        "import glob\n",
        "from google.oauth2 import service_account\n",
        "import pygsheets"
      ]
    },
    {
      "cell_type": "markdown",
      "source": [
        "list output"
      ],
      "metadata": {
        "id": "2zYcob_hL6C6"
      }
    },
    {
      "cell_type": "code",
      "source": [
        "file_list = [] \n",
        "\n",
        "for dirpath, dirnames, filenames in os.walk(file_path):\n",
        "    for filename in filenames:\n",
        "        #file_list.append(os.path.basename(filename))\n",
        "        file_list.append(os.path.join(dirpath, filename).replace(\"\\\\\", \"/\"))\n",
        "        #print('dirname: {}, filename: {}'. format(dirpath, filename))\n",
        "\n",
        "if file_list:\n",
        "    for file_path in file_list:\n",
        "        #print(fr\"{file_path}\")\n",
        "        print(r\"{}\".format(file_path))\n",
        "\n",
        "else:\n",
        "    print(\"file_list is empty\")"
      ],
      "metadata": {
        "id": "h4z9RSm6zpjU"
      },
      "execution_count": null,
      "outputs": []
    },
    {
      "cell_type": "code",
      "source": [
        "def get_file_list(file_path):\n",
        "    file_list = []\n",
        "    for dirpath, dirnames, filenames in os.walk(file_path):\n",
        "        for filename in filenames:\n",
        "            file_list.append(os.path.join(dirpath, filename).replace(\"\\\\\", \"/\"))\n",
        "           \n",
        "    if file_list:\n",
        "        for file_path in file_list:\n",
        "            #print(fr\"{file_path}\")\n",
        "            print(r\"{}\".format(file_path))\n",
        "    else:\n",
        "        print(\"file_list is empty\")\n"
      ],
      "metadata": {
        "id": "hobF2Pi5NDPw"
      },
      "execution_count": 11,
      "outputs": []
    },
    {
      "cell_type": "markdown",
      "source": [
        "구글 스프레드 시트 \n",
        "- 조건문 -> 파일명 양식을 지키면 더 이상 안고치기"
      ],
      "metadata": {
        "id": "APi2D3hfNou5"
      }
    },
    {
      "cell_type": "code",
      "source": [
        "for row in workingsheet:\n",
        "    if None not in row[1:6]:\n",
        "        print(row[5], row[8])"
      ],
      "metadata": {
        "id": "DzZ_N3ADxvTa"
      },
      "execution_count": null,
      "outputs": []
    },
    {
      "cell_type": "code",
      "source": [
        "#BBtest.json\n",
        "from google.oauth2 import service_account\n",
        "import pygsheets\n",
        "\n",
        "link = \"https://docs.google.com/spreadsheets/d/1VV26-Y1BuJ1qnh_4rg6xumWL51l1G4uuXmmVZMNl17I/edit#gid=1488835763\"\n",
        "\n",
        "session = pygsheets.authorize(service_account_file = r\"/content/drive/MyDrive/BBtest.json\")\n",
        "\n",
        "sheet = session.open_by_url(link)\n",
        "\n",
        "\n",
        "wksheet_list = [sheet.title for sheet in sheet._sheet_list]\n",
        "\n",
        "print(wksheet_list[10])\n",
        "print('\\n')\n",
        "\n",
        "workingsheet = sheet.worksheet_by_title(wksheet_list[10])\n",
        "\n",
        "#print(workingsheet[1])\n",
        "#print('\\n')\n",
        "\n",
        "for row in workingsheet:\n",
        "    if None not in row[1:6]:\n",
        "        print(row[5], row[8])\n",
        "\n"
      ],
      "metadata": {
        "id": "1diijaFXNtwC"
      },
      "execution_count": null,
      "outputs": []
    },
    {
      "cell_type": "code",
      "source": [
        "link = \"https://docs.google.com/spreadsheets/d/1VV26-Y1BuJ1qnh_4rg6xumWL51l1G4uuXmmVZMNl17I/edit#gid=1488835763\""
      ],
      "metadata": {
        "id": "n8uky6x6xiBr"
      },
      "execution_count": 42,
      "outputs": []
    },
    {
      "cell_type": "code",
      "source": [
        "service_account_file = r\"/content/drive/MyDrive/BBtest.json\""
      ],
      "metadata": {
        "id": "PlfO5cfuxmHH"
      },
      "execution_count": 43,
      "outputs": []
    },
    {
      "cell_type": "code",
      "source": [
        "def get_sheets(link, service_account_file):\n",
        "    session = pygsheets.authorize(service_account_file=service_account_file)\n",
        "    sheet = session.open_by_url(link)\n",
        "\n",
        "    wksheet_list = [sheet.title for sheet in sheet._sheet_list]\n",
        "\n",
        "    print(wksheet_list[10])\n",
        "    print('\\n')\n",
        "\n",
        "    workingsheet = sheet.worksheet_by_title(wksheet_list[10])\n",
        "\n",
        "    return workingsheet\n",
        "\n"
      ],
      "metadata": {
        "id": "uvmmUJ7Cs96e"
      },
      "execution_count": 44,
      "outputs": []
    },
    {
      "cell_type": "code",
      "source": [
        "workingsheet = get_sheets(link, service_account_file)"
      ],
      "metadata": {
        "colab": {
          "base_uri": "https://localhost:8080/"
        },
        "id": "5_bx8iEc6fYq",
        "outputId": "0b71bbe5-d668-4a24-8658-0a891fb6b237"
      },
      "execution_count": 52,
      "outputs": [
        {
          "output_type": "stream",
          "name": "stdout",
          "text": [
            "3. En>Es/Ko\n",
            "\n",
            "\n"
          ]
        }
      ]
    },
    {
      "cell_type": "markdown",
      "source": [
        "- 데이터프레임으로"
      ],
      "metadata": {
        "id": "ci1naT63-PJt"
      }
    },
    {
      "cell_type": "code",
      "source": [
        "def frame_sheets(workingsheet):\n",
        "  array = [[cell for cell in row] for row in workingsheet] # 시트 내용을 nested list로 저장\n",
        "\n",
        "  sheet_content = pd.DataFrame(data=array[1:], columns=array[0]) # nested list를 0번 행을 column(=key)로 한 dataframe으로 저장\n",
        "\n",
        "  print(sheet_content.head(0)) # 첫 0번 행 반환(=column)\n",
        "\n",
        "  print(sheet_content.loc[0, 'File name'])# File name key 조회되는지 확인!\n",
        "\n"
      ],
      "metadata": {
        "id": "rqHukuqM3pCa"
      },
      "execution_count": 50,
      "outputs": []
    },
    {
      "cell_type": "code",
      "source": [
        "df = frame_sheets(workingsheet)"
      ],
      "metadata": {
        "colab": {
          "base_uri": "https://localhost:8080/"
        },
        "id": "C8JDCVUb6qc3",
        "outputId": "2f60ad59-218b-4bf5-aaac-a5f533bb2394"
      },
      "execution_count": 51,
      "outputs": [
        {
          "output_type": "stream",
          "name": "stdout",
          "text": [
            "Empty DataFrame\n",
            "Columns: [No, Project, Source lang, Target lang, File Number, Volume, Duedate, Freelancer name, File name, 1st rate, 2nd rate, Rate for NEW tr2, Expected Budget (Max), Actual Volume (tr1), Actual Volume (tr2), Actual NEW tr2 Volume (tr1), Actual NEW tr2 Volume (tr2), Actual Payment, Payment status, Payment check (BMS), status, Memo, Batch, Memo_DY, Volume (String), Contract Start date (Upwork), Submission date (Upwork), Freelancer email, Paypal ID, /, /, 윤영님, 수현님, , , , , ]\n",
            "Index: []\n",
            "\n",
            "[0 rows x 38 columns]\n",
            "BB-SY-TS_enes_9221_1_due_230221_Larry Serrate\n"
          ]
        }
      ]
    },
    {
      "cell_type": "markdown",
      "source": [
        "- 리스트로 (1)"
      ],
      "metadata": {
        "id": "0JczjtvY-NkE"
      }
    },
    {
      "cell_type": "code",
      "source": [
        "def get_row_data(workingsheet):\n",
        "    result = []\n",
        "    for row in workingsheet:\n",
        "        if row[5] is not None and row[8] is not None and not row[8].startswith('____due__'):\n",
        "            result.append((row[5], row[8]))\n",
        "    return result\n"
      ],
      "metadata": {
        "id": "QHojqm1w_gzc"
      },
      "execution_count": 108,
      "outputs": []
    },
    {
      "cell_type": "code",
      "source": [
        "data = get_row_data(workingsheet)"
      ],
      "metadata": {
        "id": "dI4bTxQf_jDR"
      },
      "execution_count": 109,
      "outputs": []
    },
    {
      "cell_type": "code",
      "source": [
        "data"
      ],
      "metadata": {
        "colab": {
          "base_uri": "https://localhost:8080/"
        },
        "id": "uBaO5EhD_nDB",
        "outputId": "faf2d32a-6677-4a45-b156-7cd986039083"
      },
      "execution_count": 110,
      "outputs": [
        {
          "output_type": "execute_result",
          "data": {
            "text/plain": [
              "[('Volume', 'File name'),\n",
              " ('9,221', 'BB-SY-TS_enes_9221_1_due_230221_Larry Serrate'),\n",
              " ('9,997', 'BB-SY_HT_enes_9997_1_due_230220_Elias V'),\n",
              " ('9,996', 'BB-SY_HT_enes_9996_2_due_230220_Eva Coronado'),\n",
              " ('9,980', 'BB-SY_HT_enes_9980_3_due_230223_Aina Torres Pallares'),\n",
              " ('9,943', 'BB-SY_HT_enes_9943_4_due_230301_Heber Villalobos'),\n",
              " ('6,609', 'BB-SY_HT_enes_6609_5_due_230220_Nancy Edith C'),\n",
              " ('997', 'BB-SY_HT_enes_997_6_due_230316_Ana Garzas'),\n",
              " ('6,139', 'BB-SY_QC_enes_6139_1(1)_due_230302_Javiera Valentina F.'),\n",
              " ('6,011', 'BB-SY_QC_enes_6011_1(2)_due_230309_Aina Torres Pallares'),\n",
              " ('4,435', 'BB-SY_QC_enes_4435_1(3)_due_230309_Meritxell Puigdevall Catasús'),\n",
              " ('5,818', 'BB-SY_QC_enes_5818_2_due_230316_Nancy Edith C'),\n",
              " ('9,791', 'BB-SY_MT_enes_9791_1_due_230301_Eva Coronado'),\n",
              " ('', ''),\n",
              " ('', ''),\n",
              " ('', ''),\n",
              " ('', ''),\n",
              " ('9,221', 'BB-SY_TS_enko_9221_1_due_230220_최민주'),\n",
              " ('9,997', 'BB-SY_HT_enko_9997_1_due_230220_김민정(조영주)'),\n",
              " ('9,996', 'BB-SY_HT_enko_9996_2_due_230220_김효진'),\n",
              " ('9,980', 'BB-SY_HT_enko_9980_3_due_230220_최우원'),\n",
              " ('9,943', 'BB-SY_HT_enko_9943_4_due_230220_심지현'),\n",
              " ('6,609', 'BB-SY_HT_enko_6609_5_due_230227_최우원'),\n",
              " ('435', 'BB-SY_HT_enko_435_6_due_230309_윤영님'),\n",
              " ('19,949', 'BB-SY_QC_enko_19949_1_due_230302_최민주'),\n",
              " ('5,163', 'BB-SY_QC_enko_5163_2_due_230308_최민주'),\n",
              " ('3,055', 'BB-SY_QC_enko_3055_3_due_230315_최민주'),\n",
              " ('', ''),\n",
              " ('', ''),\n",
              " ('15,007', 'BB-WE_MTPE_enes_15007_1_due_230315_Heber Villalobos'),\n",
              " ('15,006', 'BB-WE_MTPE_enes_15006_2_due_230312_Rebeca Fraga'),\n",
              " ('14,810', 'BB-WE_MTPE_enes_14810_3_due_230309_Camila Suarez'),\n",
              " ('14,769', 'BB-WE_MTPE_enes_14769_4_due_230313_Luis Incausa'),\n",
              " ('322,078', 'BB-WE_MTPE_enes_322078_5_due_230308_24-7 Services'),\n",
              " ('14,877', 'BB-WE_MTPE_enes_14877_6_due_230313_Patricia Agra Perez'),\n",
              " ('7,601', 'BB-WE_MTPE_enes_7601_7(1)_due_230314_Aina Torres Pallares'),\n",
              " ('7,642', 'BB-WE_MTPE_enes_7642_7(2)_due_230314_María Cecilia Gatti'),\n",
              " ('15,375', 'BB-WE_MTPE_enes_15375_8_due_230315_Yamila Sosa'),\n",
              " ('14,729', 'BB-WE_MTPE_enes_14729_9_due_230313_Leticia Viera'),\n",
              " ('15,297',\n",
              "  'BB-WE_MTPE_enes_15297_10_due_230313_Meritxell Puigdevall Catasús'),\n",
              " ('14,922', 'BB-WE_MTPE_enes_14922_11_due_230314_Larry Serrate'),\n",
              " ('14,813', 'BB-WE_MTPE_enes_14813_12_due_230314_Carmen Mendoza Martos'),\n",
              " ('3,004', 'BB-WE_MTPE_enes_3004_12_due_230314_Juan Carlos Gonzalez'),\n",
              " ('15,439', 'BB-WE_MTPE_enes_15439_13_due_230314_Nancy Edith C'),\n",
              " ('14,708', 'BB-WE_MTPE_enes_14708_14_due_230315_Illis Tagliaferro '),\n",
              " ('7,717', 'BB-WE_MTPE_enes_7717_15(1)_due_230320_Camila Suarez'),\n",
              " ('7,214', 'BB-WE_MTPE_enes_7214_15(2)_due_230320_María Cecilia Gatti'),\n",
              " ('7,234', 'BB-WE_MTPE_enes_7234_16(1)_due_230315_Juan Carlos Gonzalez'),\n",
              " ('7,310', 'BB-WE_MTPE_enes_7310_16(2)_due_230314_Alejandra Lifischtz'),\n",
              " ('15,287', 'BB-WE_MTPE_enes_15287_17_due_230313_Ana Garzas'),\n",
              " ('9,027', 'BB-WE_MTPE_enes_9027_18_due_230314_Anabela Pegoraro'),\n",
              " ('15,058', 'BB-WE_MTPE_enes_15058_19_due_230319_Patricia Agra Perez'),\n",
              " ('14,744', 'BB-WE_MTPE_enes_14744_20_due_230319_Paola Schiantarelli'),\n",
              " ('14,569', 'BB-WE_MTPE_enes_14569_21_due_230319_Lucía Boza'),\n",
              " ('14,960', 'BB-WE_MTPE_enes_14960_22_due_230319_ANDREA CONSONNI'),\n",
              " ('15,063',\n",
              "  'BB-WE_MTPE_enes_15063_23_due_230320_Meritxell Puigdevall Catasús'),\n",
              " ('15,036', 'BB-WE_MTPE_enes_15036_24_due_230319_Carina Mariani'),\n",
              " ('15,328', 'BB-WE_MTPE_enes_15328_25_due_230319_Clara Acosta'),\n",
              " ('5,245', 'BB-WE_MTPE_enes_5245_26_due_230319_Mariano Enrique Marandino'),\n",
              " ('5,729', 'BB-WE_MTPE_enes_5729_27(1)_due_230320_Daniel Schechtel'),\n",
              " ('6,030', 'BB-WE_MTPE_enes_6030_27(2)_due_230319_Anabela Pegoraro'),\n",
              " ('5,961', 'BB-WE_MTPE_enes_5961_27(3)_due_230319_David Gonzalez'),\n",
              " ('3,864', 'BB-WE_MTPE_enes_3864_27(4)_due_230319_Diego Righini'),\n",
              " ('7,507', 'BB-WE_QC_enes_7507_1(1)_due_230316_Camila Suarez'),\n",
              " ('7,303', 'BB-WE_QC_enes_7303_1(2)_due_230319_Cecilia Candan'),\n",
              " ('1,716', 'BB-WE_QC_enes_1716_2_due_230318_Carmen Mendoza Martos'),\n",
              " ('8,157', 'BB-WE_QC_enes_8157_3_due_230323_윤영님'),\n",
              " ('345', 'BB-WE_QC_enes_345_4_due_230323_윤영님'),\n",
              " ('1,439', 'BB-WE_QC_enes_1439_5_due_230323_윤영님'),\n",
              " ('12,733', 'BB-WE_MT_enes_12733_1_due_230318_Meritxell Puigdevall Catasús'),\n",
              " ('6,621', 'BB-WE_MT_enes_6621_2_due_230318_Rebeca Fraga'),\n",
              " ('214,527', 'BB-WE_MT_enes_214527_3_due_230323_24-7 Services'),\n",
              " ('9,620', 'BB-WE_MT_enes_9620_4_due_230323_Paola Schiantarelli'),\n",
              " ('13,975', 'BB-WE_MT_enes_13975_5_due_230323_Meritxell Puigdevall Catasús'),\n",
              " ('4,977', 'BB-WE_MT_enes_4977_6_due_230323_Camila Suarez'),\n",
              " ('', '___6_due_230323_'),\n",
              " ('', '___6_due_230323_'),\n",
              " ('', '___6_due_230323_'),\n",
              " ('', '___6_due_230323_'),\n",
              " ('', '___6_due_230323_'),\n",
              " ('', '___6_due_230323_'),\n",
              " ('', '___6_due_230323_'),\n",
              " ('', '___6_due_230323_'),\n",
              " ('', '___6_due_230323_'),\n",
              " ('', '___6_due_230323_'),\n",
              " ('', '___6_due_230323_'),\n",
              " ('', ''),\n",
              " ('', ''),\n",
              " ('17,359', 'BB-WE-MTPE_esen_17359_1_due_230309_Larry Serrate'),\n",
              " ('17,719', 'BB-WE-MTPE_esen_17719_2_due_230309_Nancy Edith C'),\n",
              " ('241,446', 'BB-WE-MTPE_esen_241446_3_due_230313_CCJK'),\n",
              " ('101,146', 'BB-WE-MTPE_esen_101146_4_due_230313_Circle'),\n",
              " ('17,579', 'BB-WE-MTPE_esen_17579_5_due_230313_Cynthia González '),\n",
              " ('17,263', 'BB-WE-MTPE_esen_17263_6_due_230313_Juan Waserman'),\n",
              " ('17,618', 'BB-WE-MTPE_esen_17618_7_due_230313_Pamela Vega'),\n",
              " ('17,380', 'BB-WE-MTPE_esen_17380_8_due_230313_Daniel Schechtel'),\n",
              " ('17,170', 'BB-WE-MTPE_esen_17170_9_due_230314_Benjamín Stefano Muñoz Pino'),\n",
              " ('6,194', 'BB-WE-MTPE_esen_6194_10_due_230314_Joel Martin Cardenas'),\n",
              " ('8,344', 'BB-WE-MTPE_esen_8344_10(1)_due_230314_Paul Varghese'),\n",
              " ('8,517', 'BB-WE-MTPE_esen_8517_10(2)_due_230314_Marshall Nadia'),\n",
              " ('17,263',\n",
              "  'BB-WE-MTPE_esen_17263_11_due_230314_Jorel Antonio Espinoza Merino'),\n",
              " ('17,058', 'BB-WE-MTPE_esen_17058_12_due_230314_Ethan Patrick Kelley'),\n",
              " ('17,475', 'BB-WE-MTPE_esen_17475_13_due_230314_Diana Toma'),\n",
              " ('8,607', 'BB-WE-MTPE_esen_8607_14(1)_due_230314_Nchouwat Adamou'),\n",
              " ('8,646', 'BB-WE-MTPE_esen_8646_14(2)_due_230314_Ngu Robert Jireh '),\n",
              " ('7,570', 'BB-WE-MTPE_esen_7570_15(1)_due_230314_Natalia Perez Ortiz'),\n",
              " ('8,114', 'BB-WE-MTPE_esen_8114_15(2)_due_230314_Pilar Dueñas'),\n",
              " ('18,116', 'BB-WE-MTPE_esen_18116_16_due_230319_Joel Martin Cardenas'),\n",
              " ('5,618', 'BB-WE-MTPE_esen_5618_17(1)_due_230319_Nicolas Copello'),\n",
              " ('5,841', 'BB-WE-MTPE_esen_5841_17(2)_due_230320_Diana Toma'),\n",
              " ('6,234',\n",
              "  'BB-WE-MTPE_esen_6234_17(3)_due_230320_Benjamín Stefano Muñoz Pino'),\n",
              " ('4,628', 'BB-WE-MTPE_esen_4628_18(1)_due_230319_Liza Hurtado Larico'),\n",
              " ('5,940', 'BB-WE-MTPE_esen_5940_18(2)_due_230322_Diana Toma'),\n",
              " ('5,995',\n",
              "  'BB-WE-MTPE_esen_5995_18(3)_due_230322_Benjamín Stefano Muñoz Pino'),\n",
              " ('17,485', 'BB-WE-MTPE_esen_17485_19_due_230319_Juan Carlos Postigo Ríos'),\n",
              " ('17,239', 'BB-WE-MTPE_esen_17239_20_due_230320_María Marí Ros '),\n",
              " ('17,441', 'BB-WE-MTPE_esen_17441_21_due_230323_CCJK'),\n",
              " ('15,786', 'BB-WE-MTPE_esen_15786_22_due_230319_Ngu Robert Jireh '),\n",
              " ('28,294', 'BB-WE-MTPE_esen_28294_23_due_230317_CCJK'),\n",
              " ('9,095', 'BB-WE-MTPE_esen_9095_24_due_230319_Larry Serrate'),\n",
              " ('5,189', 'BB-WE-QC_esen_5189_1(1)_due_230316_Pilar Dueñas'),\n",
              " ('5,180', 'BB-WE-QC_esen_5180_1(2)_due_230316_Pamela Vega'),\n",
              " ('528', 'BB-WE-QC_esen_528_2_due_230317_Daniel Schechtel'),\n",
              " ('9,889', 'BB-WE-QC_esen_9889_3_due_230323_윤영님'),\n",
              " ('254', 'BB-WE-QC_esen_254_4_due_230323_윤영님'),\n",
              " ('8,517', 'BB-WE_MT_esen_8517_1_due_230321_Marshall Nadia'),\n",
              " ('215,220', 'BB-WE_MT_esen_215220_2_due_230324_CCJK'),\n",
              " ('5,227', 'BB-WE_MT_esen_5227_1_due_230323_Daniel Schechtel'),\n",
              " ('16,787', 'BB-WE_MT_esen_16787_3_due_230324_CCJK'),\n",
              " ('10,001', 'BB-WE_MT_esen_10001_4_due_230323_Ngu Robert Jireh '),\n",
              " ('23,397', 'BB-WE_MT_esen_23397_5_due_230323_Circle'),\n",
              " ('10,695', 'BB-WE_MT_esen_10695_6_due_230323_Joel Martin Cardenas'),\n",
              " ('17,239', 'BB-WE_MT_esen_17239_7_due_230323_María Marí Ros '),\n",
              " ('11,766', 'BB-WE_MT_esen_11766_8_due_230324_Juan Carlos Postigo Ríos'),\n",
              " ('9,305', 'BB-WE_MT_esen_9305_7_due_230327_Daniel Schechtel'),\n",
              " ('3,762', 'BB-WE_MT_esen_3762_9_due_230403_Joel Martin Cardenas'),\n",
              " ('', ''),\n",
              " ('', '')]"
            ]
          },
          "metadata": {},
          "execution_count": 110
        }
      ]
    },
    {
      "cell_type": "markdown",
      "source": [
        "- 리스트로 (2)"
      ],
      "metadata": {
        "id": "8fB7ZPNzdOLj"
      }
    },
    {
      "cell_type": "code",
      "source": [
        "def process_data(data):\n",
        "    new_data = []\n",
        "    for i in range(1, len(data)): #header 제외, index 0은 건너뜀\n",
        "        if data[i][0] == '':\n",
        "            continue\n",
        "        if type(data[i][0]) is int:\n",
        "          continue\n",
        "        a = int(data[i][0].replace(',', ''))\n",
        "        new_data.append((a, data[i][1]))\n",
        "    return new_data\n"
      ],
      "metadata": {
        "id": "zLQ3FDejb_jo"
      },
      "execution_count": 111,
      "outputs": []
    },
    {
      "cell_type": "code",
      "source": [
        "process_data(data)"
      ],
      "metadata": {
        "colab": {
          "base_uri": "https://localhost:8080/"
        },
        "id": "HSRD2crSbVKY",
        "outputId": "7df905a8-5729-40f2-f6fa-3ff2fd1229ba"
      },
      "execution_count": 112,
      "outputs": [
        {
          "output_type": "execute_result",
          "data": {
            "text/plain": [
              "[(9221, 'BB-SY-TS_enes_9221_1_due_230221_Larry Serrate'),\n",
              " (9997, 'BB-SY_HT_enes_9997_1_due_230220_Elias V'),\n",
              " (9996, 'BB-SY_HT_enes_9996_2_due_230220_Eva Coronado'),\n",
              " (9980, 'BB-SY_HT_enes_9980_3_due_230223_Aina Torres Pallares'),\n",
              " (9943, 'BB-SY_HT_enes_9943_4_due_230301_Heber Villalobos'),\n",
              " (6609, 'BB-SY_HT_enes_6609_5_due_230220_Nancy Edith C'),\n",
              " (997, 'BB-SY_HT_enes_997_6_due_230316_Ana Garzas'),\n",
              " (6139, 'BB-SY_QC_enes_6139_1(1)_due_230302_Javiera Valentina F.'),\n",
              " (6011, 'BB-SY_QC_enes_6011_1(2)_due_230309_Aina Torres Pallares'),\n",
              " (4435, 'BB-SY_QC_enes_4435_1(3)_due_230309_Meritxell Puigdevall Catasús'),\n",
              " (5818, 'BB-SY_QC_enes_5818_2_due_230316_Nancy Edith C'),\n",
              " (9791, 'BB-SY_MT_enes_9791_1_due_230301_Eva Coronado'),\n",
              " (9221, 'BB-SY_TS_enko_9221_1_due_230220_최민주'),\n",
              " (9997, 'BB-SY_HT_enko_9997_1_due_230220_김민정(조영주)'),\n",
              " (9996, 'BB-SY_HT_enko_9996_2_due_230220_김효진'),\n",
              " (9980, 'BB-SY_HT_enko_9980_3_due_230220_최우원'),\n",
              " (9943, 'BB-SY_HT_enko_9943_4_due_230220_심지현'),\n",
              " (6609, 'BB-SY_HT_enko_6609_5_due_230227_최우원'),\n",
              " (435, 'BB-SY_HT_enko_435_6_due_230309_윤영님'),\n",
              " (19949, 'BB-SY_QC_enko_19949_1_due_230302_최민주'),\n",
              " (5163, 'BB-SY_QC_enko_5163_2_due_230308_최민주'),\n",
              " (3055, 'BB-SY_QC_enko_3055_3_due_230315_최민주'),\n",
              " (15007, 'BB-WE_MTPE_enes_15007_1_due_230315_Heber Villalobos'),\n",
              " (15006, 'BB-WE_MTPE_enes_15006_2_due_230312_Rebeca Fraga'),\n",
              " (14810, 'BB-WE_MTPE_enes_14810_3_due_230309_Camila Suarez'),\n",
              " (14769, 'BB-WE_MTPE_enes_14769_4_due_230313_Luis Incausa'),\n",
              " (322078, 'BB-WE_MTPE_enes_322078_5_due_230308_24-7 Services'),\n",
              " (14877, 'BB-WE_MTPE_enes_14877_6_due_230313_Patricia Agra Perez'),\n",
              " (7601, 'BB-WE_MTPE_enes_7601_7(1)_due_230314_Aina Torres Pallares'),\n",
              " (7642, 'BB-WE_MTPE_enes_7642_7(2)_due_230314_María Cecilia Gatti'),\n",
              " (15375, 'BB-WE_MTPE_enes_15375_8_due_230315_Yamila Sosa'),\n",
              " (14729, 'BB-WE_MTPE_enes_14729_9_due_230313_Leticia Viera'),\n",
              " (15297, 'BB-WE_MTPE_enes_15297_10_due_230313_Meritxell Puigdevall Catasús'),\n",
              " (14922, 'BB-WE_MTPE_enes_14922_11_due_230314_Larry Serrate'),\n",
              " (14813, 'BB-WE_MTPE_enes_14813_12_due_230314_Carmen Mendoza Martos'),\n",
              " (3004, 'BB-WE_MTPE_enes_3004_12_due_230314_Juan Carlos Gonzalez'),\n",
              " (15439, 'BB-WE_MTPE_enes_15439_13_due_230314_Nancy Edith C'),\n",
              " (14708, 'BB-WE_MTPE_enes_14708_14_due_230315_Illis Tagliaferro '),\n",
              " (7717, 'BB-WE_MTPE_enes_7717_15(1)_due_230320_Camila Suarez'),\n",
              " (7214, 'BB-WE_MTPE_enes_7214_15(2)_due_230320_María Cecilia Gatti'),\n",
              " (7234, 'BB-WE_MTPE_enes_7234_16(1)_due_230315_Juan Carlos Gonzalez'),\n",
              " (7310, 'BB-WE_MTPE_enes_7310_16(2)_due_230314_Alejandra Lifischtz'),\n",
              " (15287, 'BB-WE_MTPE_enes_15287_17_due_230313_Ana Garzas'),\n",
              " (9027, 'BB-WE_MTPE_enes_9027_18_due_230314_Anabela Pegoraro'),\n",
              " (15058, 'BB-WE_MTPE_enes_15058_19_due_230319_Patricia Agra Perez'),\n",
              " (14744, 'BB-WE_MTPE_enes_14744_20_due_230319_Paola Schiantarelli'),\n",
              " (14569, 'BB-WE_MTPE_enes_14569_21_due_230319_Lucía Boza'),\n",
              " (14960, 'BB-WE_MTPE_enes_14960_22_due_230319_ANDREA CONSONNI'),\n",
              " (15063, 'BB-WE_MTPE_enes_15063_23_due_230320_Meritxell Puigdevall Catasús'),\n",
              " (15036, 'BB-WE_MTPE_enes_15036_24_due_230319_Carina Mariani'),\n",
              " (15328, 'BB-WE_MTPE_enes_15328_25_due_230319_Clara Acosta'),\n",
              " (5245, 'BB-WE_MTPE_enes_5245_26_due_230319_Mariano Enrique Marandino'),\n",
              " (5729, 'BB-WE_MTPE_enes_5729_27(1)_due_230320_Daniel Schechtel'),\n",
              " (6030, 'BB-WE_MTPE_enes_6030_27(2)_due_230319_Anabela Pegoraro'),\n",
              " (5961, 'BB-WE_MTPE_enes_5961_27(3)_due_230319_David Gonzalez'),\n",
              " (3864, 'BB-WE_MTPE_enes_3864_27(4)_due_230319_Diego Righini'),\n",
              " (7507, 'BB-WE_QC_enes_7507_1(1)_due_230316_Camila Suarez'),\n",
              " (7303, 'BB-WE_QC_enes_7303_1(2)_due_230319_Cecilia Candan'),\n",
              " (1716, 'BB-WE_QC_enes_1716_2_due_230318_Carmen Mendoza Martos'),\n",
              " (8157, 'BB-WE_QC_enes_8157_3_due_230323_윤영님'),\n",
              " (345, 'BB-WE_QC_enes_345_4_due_230323_윤영님'),\n",
              " (1439, 'BB-WE_QC_enes_1439_5_due_230323_윤영님'),\n",
              " (12733, 'BB-WE_MT_enes_12733_1_due_230318_Meritxell Puigdevall Catasús'),\n",
              " (6621, 'BB-WE_MT_enes_6621_2_due_230318_Rebeca Fraga'),\n",
              " (214527, 'BB-WE_MT_enes_214527_3_due_230323_24-7 Services'),\n",
              " (9620, 'BB-WE_MT_enes_9620_4_due_230323_Paola Schiantarelli'),\n",
              " (13975, 'BB-WE_MT_enes_13975_5_due_230323_Meritxell Puigdevall Catasús'),\n",
              " (4977, 'BB-WE_MT_enes_4977_6_due_230323_Camila Suarez'),\n",
              " (17359, 'BB-WE-MTPE_esen_17359_1_due_230309_Larry Serrate'),\n",
              " (17719, 'BB-WE-MTPE_esen_17719_2_due_230309_Nancy Edith C'),\n",
              " (241446, 'BB-WE-MTPE_esen_241446_3_due_230313_CCJK'),\n",
              " (101146, 'BB-WE-MTPE_esen_101146_4_due_230313_Circle'),\n",
              " (17579, 'BB-WE-MTPE_esen_17579_5_due_230313_Cynthia González '),\n",
              " (17263, 'BB-WE-MTPE_esen_17263_6_due_230313_Juan Waserman'),\n",
              " (17618, 'BB-WE-MTPE_esen_17618_7_due_230313_Pamela Vega'),\n",
              " (17380, 'BB-WE-MTPE_esen_17380_8_due_230313_Daniel Schechtel'),\n",
              " (17170, 'BB-WE-MTPE_esen_17170_9_due_230314_Benjamín Stefano Muñoz Pino'),\n",
              " (6194, 'BB-WE-MTPE_esen_6194_10_due_230314_Joel Martin Cardenas'),\n",
              " (8344, 'BB-WE-MTPE_esen_8344_10(1)_due_230314_Paul Varghese'),\n",
              " (8517, 'BB-WE-MTPE_esen_8517_10(2)_due_230314_Marshall Nadia'),\n",
              " (17263, 'BB-WE-MTPE_esen_17263_11_due_230314_Jorel Antonio Espinoza Merino'),\n",
              " (17058, 'BB-WE-MTPE_esen_17058_12_due_230314_Ethan Patrick Kelley'),\n",
              " (17475, 'BB-WE-MTPE_esen_17475_13_due_230314_Diana Toma'),\n",
              " (8607, 'BB-WE-MTPE_esen_8607_14(1)_due_230314_Nchouwat Adamou'),\n",
              " (8646, 'BB-WE-MTPE_esen_8646_14(2)_due_230314_Ngu Robert Jireh '),\n",
              " (7570, 'BB-WE-MTPE_esen_7570_15(1)_due_230314_Natalia Perez Ortiz'),\n",
              " (8114, 'BB-WE-MTPE_esen_8114_15(2)_due_230314_Pilar Dueñas'),\n",
              " (18116, 'BB-WE-MTPE_esen_18116_16_due_230319_Joel Martin Cardenas'),\n",
              " (5618, 'BB-WE-MTPE_esen_5618_17(1)_due_230319_Nicolas Copello'),\n",
              " (5841, 'BB-WE-MTPE_esen_5841_17(2)_due_230320_Diana Toma'),\n",
              " (6234, 'BB-WE-MTPE_esen_6234_17(3)_due_230320_Benjamín Stefano Muñoz Pino'),\n",
              " (4628, 'BB-WE-MTPE_esen_4628_18(1)_due_230319_Liza Hurtado Larico'),\n",
              " (5940, 'BB-WE-MTPE_esen_5940_18(2)_due_230322_Diana Toma'),\n",
              " (5995, 'BB-WE-MTPE_esen_5995_18(3)_due_230322_Benjamín Stefano Muñoz Pino'),\n",
              " (17485, 'BB-WE-MTPE_esen_17485_19_due_230319_Juan Carlos Postigo Ríos'),\n",
              " (17239, 'BB-WE-MTPE_esen_17239_20_due_230320_María Marí Ros '),\n",
              " (17441, 'BB-WE-MTPE_esen_17441_21_due_230323_CCJK'),\n",
              " (15786, 'BB-WE-MTPE_esen_15786_22_due_230319_Ngu Robert Jireh '),\n",
              " (28294, 'BB-WE-MTPE_esen_28294_23_due_230317_CCJK'),\n",
              " (9095, 'BB-WE-MTPE_esen_9095_24_due_230319_Larry Serrate'),\n",
              " (5189, 'BB-WE-QC_esen_5189_1(1)_due_230316_Pilar Dueñas'),\n",
              " (5180, 'BB-WE-QC_esen_5180_1(2)_due_230316_Pamela Vega'),\n",
              " (528, 'BB-WE-QC_esen_528_2_due_230317_Daniel Schechtel'),\n",
              " (9889, 'BB-WE-QC_esen_9889_3_due_230323_윤영님'),\n",
              " (254, 'BB-WE-QC_esen_254_4_due_230323_윤영님'),\n",
              " (8517, 'BB-WE_MT_esen_8517_1_due_230321_Marshall Nadia'),\n",
              " (215220, 'BB-WE_MT_esen_215220_2_due_230324_CCJK'),\n",
              " (5227, 'BB-WE_MT_esen_5227_1_due_230323_Daniel Schechtel'),\n",
              " (16787, 'BB-WE_MT_esen_16787_3_due_230324_CCJK'),\n",
              " (10001, 'BB-WE_MT_esen_10001_4_due_230323_Ngu Robert Jireh '),\n",
              " (23397, 'BB-WE_MT_esen_23397_5_due_230323_Circle'),\n",
              " (10695, 'BB-WE_MT_esen_10695_6_due_230323_Joel Martin Cardenas'),\n",
              " (17239, 'BB-WE_MT_esen_17239_7_due_230323_María Marí Ros '),\n",
              " (11766, 'BB-WE_MT_esen_11766_8_due_230324_Juan Carlos Postigo Ríos'),\n",
              " (9305, 'BB-WE_MT_esen_9305_7_due_230327_Daniel Schechtel'),\n",
              " (3762, 'BB-WE_MT_esen_3762_9_due_230403_Joel Martin Cardenas')]"
            ]
          },
          "metadata": {},
          "execution_count": 112
        }
      ]
    },
    {
      "cell_type": "markdown",
      "source": [
        "참고) class "
      ],
      "metadata": {
        "id": "uhj9rAgg62Rl"
      }
    },
    {
      "cell_type": "code",
      "source": [
        "import pygsheets\n",
        "import pandas as pd\n",
        "\n",
        "class SheetsDataFrame:\n",
        "    def __init__(self, link, service_account_file):\n",
        "        self.session = pygsheets.authorize(service_account_file=service_account_file)\n",
        "        self.sheet = self.session.open_by_url(link)\n",
        "        self.wksheet_list = [sheet.title for sheet in self.sheet._sheet_list]\n",
        "        self.workingsheet = self.sheet.worksheet_by_title(self.wksheet_list[10])\n",
        "        self.df = self._create_dataframe()\n",
        "\n",
        "    def _create_dataframe(self):\n",
        "        array = [[cell for cell in row] for row in self.workingsheet]\n",
        "        return pd.DataFrame(data=array, columns=array[0])\n",
        "\n",
        "    def print_columns(self):\n",
        "        print(self.df.head(0))\n",
        "\n",
        "    def print_file_names(self):\n",
        "        print(self.df['File name'])\n"
      ],
      "metadata": {
        "id": "DE4kKrNy4UYk"
      },
      "execution_count": null,
      "outputs": []
    },
    {
      "cell_type": "code",
      "source": [
        "link = \"https://docs.google.com/spreadsheets/d/1VV26-Y1BuJ1qnh_4rg6xumWL51l1G4uuXmmVZMNl17I/edit#gid=1488835763\"\n",
        "service_account_file = r\"/content/drive/MyDrive/BBtest.json\"\n",
        "\n",
        "sheets_df = SheetsDataFrame(link, service_account_file)\n",
        "sheets_df.print_columns()\n",
        "sheets_df.print_file_names()\n"
      ],
      "metadata": {
        "id": "EeAojUI-5x39"
      },
      "execution_count": null,
      "outputs": []
    },
    {
      "cell_type": "markdown",
      "source": [
        "rename"
      ],
      "metadata": {
        "id": "jbTPabDxL321"
      }
    },
    {
      "cell_type": "code",
      "source": [
        "# new file names + rename 파일 저장 경로 \n",
        "\n",
        "new_file_names = ['1.xlsx','2.xlsx','3.xlsx'] #스프레드 시트로부터 가져와야 함 \n",
        "\n",
        "base_path = r\"C:\\Users\\PC-2301007\\Desktop\\BB(2)\"\n",
        "\n",
        "new_files = [r'{}\\1.xlsx',r'{}\\2.xlsx',r'{}\\3.xlsx']\n",
        "new_file_name = [f.format(base_path) for f in new_files]\n",
        "\n",
        "for i in range(len(new_file_name)):\n",
        "    os.rename(file_list[i], new_file_name[i])"
      ],
      "metadata": {
        "id": "r71Py1F4z6PB"
      },
      "execution_count": null,
      "outputs": []
    },
    {
      "cell_type": "markdown",
      "source": [
        "\"length\" cell <-> volume matching"
      ],
      "metadata": {
        "id": "f5IPU0wGMmG6"
      }
    },
    {
      "cell_type": "code",
      "source": [
        "cell_length = int(input('Put your length: ')) # 스프레드 시트로부터 가져온다 \n",
        "\n",
        "file_path = r'C:\\Users\\PC-2301007\\Desktop\\BB(2)'\n",
        "\n",
        "files = glob.glob(file_path)\n"
      ],
      "metadata": {
        "id": "enTUBGzR4ULo"
      },
      "execution_count": null,
      "outputs": []
    }
  ]
}